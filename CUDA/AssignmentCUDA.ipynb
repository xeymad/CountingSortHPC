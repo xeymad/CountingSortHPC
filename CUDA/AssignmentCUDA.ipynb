{
  "nbformat": 4,
  "nbformat_minor": 0,
  "metadata": {
    "colab": {
      "name": "CommonAssignmentCUDA01.ipynb",
      "provenance": [],
      "collapsed_sections": []
    },
    "kernelspec": {
      "name": "python3",
      "display_name": "Python 3"
    },
    "language_info": {
      "name": "python"
    },
    "accelerator": "GPU"
  },
  "cells": [
    {
      "cell_type": "markdown",
      "metadata": {
        "id": "etkTmxXf84y-"
      },
      "source": [
        "#Mount Drive"
      ]
    },
    {
      "cell_type": "code",
      "metadata": {
        "id": "CDpaoJQjs9yI"
      },
      "source": [
        "from google.colab import drive\n",
        "drive.mount('/content/drive')"
      ],
      "execution_count": null,
      "outputs": []
    },
    {
      "cell_type": "markdown",
      "metadata": {
        "id": "wOCalhcVKRqY"
      },
      "source": [
        "**!!!Create a shortcut to the shared directory in your drive!!!**"
      ]
    },
    {
      "cell_type": "code",
      "metadata": {
        "id": "t3MayFZ3xElZ"
      },
      "source": [
        "%cd /content/drive/MyDrive/cuda_src/"
      ],
      "execution_count": null,
      "outputs": []
    },
    {
      "cell_type": "markdown",
      "metadata": {
        "id": "Kgzlp48U8_AU"
      },
      "source": [
        "#GPU TYPE"
      ]
    },
    {
      "cell_type": "code",
      "metadata": {
        "id": "FJrxTr4CtHRA"
      },
      "source": [
        "!nvcc --version\n",
        "!nvidia-smi\n"
      ],
      "execution_count": null,
      "outputs": []
    },
    {
      "cell_type": "markdown",
      "metadata": {
        "id": "gAVMur7rvOmm"
      },
      "source": [
        "#Plugin"
      ]
    },
    {
      "cell_type": "code",
      "metadata": {
        "id": "hXhydd2NuGar"
      },
      "source": [
        "!pip install git+git://github.com/andreinechaev/nvcc4jupyter.git"
      ],
      "execution_count": null,
      "outputs": []
    },
    {
      "cell_type": "code",
      "metadata": {
        "id": "Lzo_NSFnuI3e"
      },
      "source": [
        "%load_ext nvcc_plugin"
      ],
      "execution_count": null,
      "outputs": []
    },
    {
      "cell_type": "markdown",
      "metadata": {
        "id": "OFIPcqNyyzem"
      },
      "source": [
        "#GPU INFO"
      ]
    },
    {
      "cell_type": "code",
      "metadata": {
        "id": "2PozfDsdy2XS"
      },
      "source": [
        "%%cu\n",
        "\n",
        "#include <stdio.h>\n",
        "#include <stdlib.h>\n",
        "\n",
        "void deviceQuery()\n",
        "{\n",
        "  cudaDeviceProp prop;\n",
        "  int nDevices=0, i;\n",
        "  cudaError_t ierr;\n",
        "\n",
        "  ierr = cudaGetDeviceCount(&nDevices);\n",
        "  if (ierr != cudaSuccess) { printf(\"Sync error: %s\\n\", cudaGetErrorString(ierr)); }\n",
        "\n",
        "\n",
        "\n",
        "  for( i = 0; i < nDevices; ++i )\n",
        "  {\n",
        "     ierr = cudaGetDeviceProperties(&prop, i);\n",
        "     printf(\"Device number: %d\\n\", i);\n",
        "     printf(\"  Device name: %s\\n\", prop.name);\n",
        "     printf(\"  Compute capability: %d.%d\\n\\n\", prop.major, prop.minor);\n",
        "     \n",
        "     printf(\"  Clock Rate: %d kHz\\n\", prop.clockRate);\n",
        "     printf(\"  Total SMs: %d \\n\", prop.multiProcessorCount);\n",
        "     printf(\"  Shared Memory Per SM: %lu bytes\\n\", prop.sharedMemPerMultiprocessor);\n",
        "     printf(\"  Registers Per SM: %d 32-bit\\n\", prop.regsPerMultiprocessor);\n",
        "     printf(\"  Max threads per SM: %d\\n\", prop.maxThreadsPerMultiProcessor);\n",
        "     printf(\"  L2 Cache Size: %d bytes\\n\", prop.l2CacheSize);\n",
        "     printf(\"  Total Global Memory: %lu bytes\\n\", prop.totalGlobalMem);\n",
        "     printf(\"  Memory Clock Rate: %d kHz\\n\\n\", prop.memoryClockRate);\n",
        "     \n",
        "     \n",
        "     printf(\"  Max threads per block: %d\\n\", prop.maxThreadsPerBlock);\n",
        "     printf(\"  Max threads in X-dimension of block: %d\\n\", prop.maxThreadsDim[0]);\n",
        "     printf(\"  Max threads in Y-dimension of block: %d\\n\", prop.maxThreadsDim[1]);\n",
        "     printf(\"  Max threads in Z-dimension of block: %d\\n\\n\", prop.maxThreadsDim[2]);\n",
        "\n",
        "     printf(\"  Max blocks in X-dimension of grid: %d\\n\", prop.maxGridSize[0]);\n",
        "     printf(\"  Max blocks in Y-dimension of grid: %d\\n\", prop.maxGridSize[1]);\n",
        "     printf(\"  Max blocks in Z-dimension of grid: %d\\n\\n\", prop.maxGridSize[2]);     \n",
        "     \n",
        "     printf(\"  Shared Memory Per Block: %lu bytes\\n\", prop.sharedMemPerBlock);\n",
        "     printf(\"  Registers Per Block: %d 32-bit\\n\", prop.regsPerBlock);\n",
        "     printf(\"  Warp size: %d\\n\\n\", prop.warpSize);\n",
        "\n",
        "  }\n",
        "}\n",
        "\n",
        "int main() {\n",
        "    deviceQuery();\n",
        "}"
      ],
      "execution_count": null,
      "outputs": []
    },
    {
      "cell_type": "markdown",
      "metadata": {
        "id": "uE2SXUsm3iHV"
      },
      "source": [
        "#CPU INFO"
      ]
    },
    {
      "cell_type": "code",
      "metadata": {
        "id": "eKvk8I063jpm"
      },
      "source": [
        "!cat /proc/cpuinfo"
      ],
      "execution_count": null,
      "outputs": []
    },
    {
      "cell_type": "markdown",
      "metadata": {
        "id": "PKMAm4Kr3oPF"
      },
      "source": [
        "#MEMOMRY INFO"
      ]
    },
    {
      "cell_type": "code",
      "metadata": {
        "id": "vX7dP26N3sNd"
      },
      "source": [
        "!cat /proc/meminfo"
      ],
      "execution_count": null,
      "outputs": []
    },
    {
      "cell_type": "markdown",
      "metadata": {
        "id": "c7iP32On30X3"
      },
      "source": [
        "#DISK INFO"
      ]
    },
    {
      "cell_type": "code",
      "metadata": {
        "id": "Suycd5Gw361z"
      },
      "source": [
        "!df -h"
      ],
      "execution_count": null,
      "outputs": []
    },
    {
      "cell_type": "markdown",
      "metadata": {
        "id": "dijw1wA9tXDs"
      },
      "source": [
        "#K80"
      ]
    },
    {
      "cell_type": "code",
      "metadata": {
        "id": "J5vlIQy36c0-"
      },
      "source": [
        "!apt-get --purge remove cuda nvidia* libnvidia-*\n",
        "!dpkg -l | grep cuda- | awk '{print $2}' | xargs -n1 dpkg --purge\n",
        "!apt-get remove cuda-*\n",
        "!apt autoremove\n",
        "!apt-get update"
      ],
      "execution_count": null,
      "outputs": []
    },
    {
      "cell_type": "code",
      "metadata": {
        "id": "5KrUngwbuFdM"
      },
      "source": [
        "!wget https://developer.nvidia.com/compute/cuda/9.2/Prod/local_installers/cuda-repo-ubuntu1604-9-2-local_9.2.88-1_amd64 -O cuda-repo-ubuntu1604-9-2-local_9.2.88-1_amd64.deb\n",
        "!dpkg -i cuda-repo-ubuntu1604-9-2-local_9.2.88-1_amd64.deb\n",
        "!apt-key add /var/cuda-repo-9-2-local/7fa2af80.pub\n",
        "!apt-get update\n",
        "!apt-get install cuda-9.2"
      ],
      "execution_count": null,
      "outputs": []
    },
    {
      "cell_type": "markdown",
      "metadata": {
        "id": "_iX-QiTrzPc9"
      },
      "source": [
        "#Bandwidth"
      ]
    },
    {
      "cell_type": "code",
      "metadata": {
        "id": "4ke1t750zSCM"
      },
      "source": [
        "%cd /usr/local/cuda/samples\n",
        "%cd 1_Utilities/bandwidthTest/\n",
        "!make\n",
        "!./bandwidthTest --mode-range --start=1000 --end=1000000 --increment=100000"
      ],
      "execution_count": null,
      "outputs": []
    },
    {
      "cell_type": "markdown",
      "source": [
        "# Counting Sort - Global memory\n"
      ],
      "metadata": {
        "id": "vLHQ2djX_ZVm"
      }
    },
    {
      "cell_type": "code",
      "source": [
        "%cd /content/drive/MyDrive/cuda_src/\n",
        "!nvcc -o counting_sort_global counting_sort_global.cu\n",
        "!nvprof --print-gpu-trace ./counting_sort_global 33554432  --benchmark"
      ],
      "metadata": {
        "id": "SpM5-ANG_jpP"
      },
      "execution_count": null,
      "outputs": []
    },
    {
      "cell_type": "markdown",
      "source": [
        "# Counting Sort - Shared memory"
      ],
      "metadata": {
        "id": "bXQwRYSj_9aa"
      }
    },
    {
      "cell_type": "markdown",
      "source": [
        "## Single Kernel\n"
      ],
      "metadata": {
        "id": "t9-OOhh4ABKH"
      }
    },
    {
      "cell_type": "code",
      "source": [
        "%cd /content/drive/MyDrive/cuda_src/\n",
        "!nvcc -o counting_sort_maxminShared counting_sort_maxminShared.cu\n",
        "!nvprof --print-gpu-trace ./counting_sort_maxminShared 33554432  --benchmark"
      ],
      "metadata": {
        "id": "qfIbit9XB_-u"
      },
      "execution_count": null,
      "outputs": []
    },
    {
      "cell_type": "markdown",
      "source": [
        "## Double Kernel"
      ],
      "metadata": {
        "id": "QlOIYsHMAErj"
      }
    },
    {
      "cell_type": "code",
      "source": [
        "%cd /content/drive/MyDrive/cuda_src/\n",
        "!nvcc -o counting_sort_streamed counting_sort_streamed.cu\n",
        "!nvprof --print-gpu-trace ./counting_sort_streamed 33554432  --benchmark"
      ],
      "metadata": {
        "id": "1_xoTjClARtN"
      },
      "execution_count": null,
      "outputs": []
    },
    {
      "cell_type": "markdown",
      "source": [
        "# Counting Sort - Texture Memory\n"
      ],
      "metadata": {
        "id": "nofecoPZBle4"
      }
    },
    {
      "cell_type": "code",
      "source": [
        "%cd /content/drive/MyDrive/cuda_src/\n",
        "!nvcc -o counting_sort_texture counting_sort_texture.cu\n",
        "!nvprof --print-gpu-trace ./counting_sort_texture 33554432  --benchmark"
      ],
      "metadata": {
        "id": "2WK_K0osBvxa"
      },
      "execution_count": null,
      "outputs": []
    }
  ]
}